{
 "cells": [
  {
   "cell_type": "code",
   "execution_count": 74,
   "id": "a60497b1",
   "metadata": {},
   "outputs": [
    {
     "name": "stdout",
     "output_type": "stream",
     "text": [
      "   Rank                      Name Platform    Year         Genre Publisher  \\\n",
      "0     1                Wii Sports      Wii  2006.0        Sports  Nintendo   \n",
      "1     2         Super Mario Bros.      NES  1985.0      Platform  Nintendo   \n",
      "2     3            Mario Kart Wii      Wii  2008.0        Racing  Nintendo   \n",
      "3     4         Wii Sports Resort      Wii  2009.0        Sports  Nintendo   \n",
      "4     5  Pokemon Red/Pokemon Blue       GB  1996.0  Role-Playing  Nintendo   \n",
      "\n",
      "   NA_Sales  EU_Sales  JP_Sales  Other_Sales  Global_Sales  \n",
      "0     41.49     29.02      3.77         8.46         82.74  \n",
      "1     29.08      3.58      6.81         0.77         40.24  \n",
      "2     15.85     12.88      3.79         3.31         35.82  \n",
      "3     15.75     11.01      3.28         2.96         33.00  \n",
      "4     11.27      8.89     10.22         1.00         31.37  \n",
      "Rank              int64\n",
      "Name             object\n",
      "Platform         object\n",
      "Year            float64\n",
      "Genre            object\n",
      "Publisher        object\n",
      "NA_Sales        float64\n",
      "EU_Sales        float64\n",
      "JP_Sales        float64\n",
      "Other_Sales     float64\n",
      "Global_Sales    float64\n",
      "dtype: object\n"
     ]
    }
   ],
   "source": [
    "import pandas as pd\n",
    "file='vgsales 2.csv'\n",
    "df=pd.read_csv(file)\n",
    "print(df.head())\n",
    "print(df.dtypes)"
   ]
  },
  {
   "cell_type": "code",
   "execution_count": 80,
   "id": "5d14e3b9",
   "metadata": {},
   "outputs": [
    {
     "name": "stdout",
     "output_type": "stream",
     "text": [
      "    Platform         Genre  Global_Sales_Mean\n",
      "0       2600        Action           0.480984\n",
      "1       2600     Adventure           0.850000\n",
      "2       2600      Fighting           0.620000\n",
      "3       2600          Misc           0.716000\n",
      "4       2600      Platform           1.474444\n",
      "..       ...           ...                ...\n",
      "288     XOne  Role-Playing           0.729231\n",
      "289     XOne       Shooter           1.563939\n",
      "290     XOne    Simulation           0.180000\n",
      "291     XOne        Sports           0.665833\n",
      "292     XOne      Strategy           0.126667\n",
      "\n",
      "[293 rows x 3 columns]\n"
     ]
    }
   ],
   "source": [
    "df2=df.groupby(['Platform','Genre']).agg({'Global_Sales':['mean']})\n",
    "df2.columns=['Global_Sales_Mean']\n",
    "df3=df2.reset_index()\n",
    "print(df3)"
   ]
  },
  {
   "cell_type": "code",
   "execution_count": 45,
   "id": "f54b06d9",
   "metadata": {},
   "outputs": [
    {
     "name": "stdout",
     "output_type": "stream",
     "text": [
      "['2600' '3DO' '3DS' 'DC' 'DS' 'GB' 'GBA' 'GC' 'GEN' 'GG' 'N64' 'NES' 'NG'\n",
      " 'PC' 'PCFX' 'PS' 'PS2' 'PS3' 'PS4' 'PSP' 'PSV' 'SAT' 'SCD' 'SNES' 'TG16'\n",
      " 'WS' 'Wii' 'WiiU' 'X360' 'XB' 'XOne']\n"
     ]
    }
   ],
   "source": [
    "print(df3.Platform.unique())"
   ]
  },
  {
   "cell_type": "code",
   "execution_count": 46,
   "id": "bb7c1da6",
   "metadata": {},
   "outputs": [
    {
     "name": "stdout",
     "output_type": "stream",
     "text": [
      "['Action' 'Adventure' 'Fighting' 'Misc' 'Platform' 'Puzzle' 'Racing'\n",
      " 'Shooter' 'Simulation' 'Sports' 'Role-Playing' 'Strategy']\n"
     ]
    }
   ],
   "source": [
    "print(df3.Genre.unique())"
   ]
  },
  {
   "cell_type": "code",
   "execution_count": 85,
   "id": "201ae358",
   "metadata": {},
   "outputs": [
    {
     "name": "stdout",
     "output_type": "stream",
     "text": [
      "        Genre Platform  Global_Sales_Mean\n",
      "0      Action     2600           0.480984\n",
      "1      Action      3DS           0.313297\n",
      "2      Action       DC           0.420000\n",
      "3      Action       DS           0.336910\n",
      "4      Action       GB           1.320000\n",
      "..        ...      ...                ...\n",
      "288  Strategy      Wii           0.209200\n",
      "289  Strategy     WiiU           0.413333\n",
      "290  Strategy     X360           0.361786\n",
      "291  Strategy       XB           0.132381\n",
      "292  Strategy     XOne           0.126667\n",
      "\n",
      "[293 rows x 3 columns]\n"
     ]
    }
   ],
   "source": [
    "df4=df3.groupby(['Genre','Platform']).max()\n",
    "df4=df4.reset_index()\n",
    "print(df4)"
   ]
  },
  {
   "cell_type": "code",
   "execution_count": 97,
   "id": "567f5ea3",
   "metadata": {},
   "outputs": [
    {
     "name": "stdout",
     "output_type": "stream",
     "text": [
      "            Genre Platform  Global_Sales_Mean\n",
      "9          Action      NES           2.211538\n",
      "34      Adventure      NES           4.380000\n",
      "58       Fighting      NES           1.635000\n",
      "82           Misc      NES           1.795000\n",
      "108      Platform      NES           3.420714\n",
      "128        Puzzle       GB           3.164667\n",
      "167        Racing     WiiU           2.590000\n",
      "174  Role-Playing       GB           4.201905\n",
      "206       Shooter      NES           5.088571\n",
      "230    Simulation      N64           1.019000\n",
      "254        Sports      NES           1.917857\n",
      "272      Strategy       GB           1.150000\n"
     ]
    }
   ],
   "source": [
    "idx = df4.groupby(['Genre'])['Global_Sales_Mean'].transform(max) == df4['Global_Sales_Mean']\n",
    "print(df4[idx])"
   ]
  },
  {
   "cell_type": "code",
   "execution_count": 111,
   "id": "67f4533c",
   "metadata": {},
   "outputs": [
    {
     "data": {
      "text/plain": [
       "Rank              0\n",
       "Name              0\n",
       "Platform          0\n",
       "Year            271\n",
       "Genre             0\n",
       "Publisher        58\n",
       "NA_Sales          0\n",
       "EU_Sales          0\n",
       "JP_Sales          0\n",
       "Other_Sales       0\n",
       "Global_Sales      0\n",
       "dtype: int64"
      ]
     },
     "execution_count": 111,
     "metadata": {},
     "output_type": "execute_result"
    }
   ],
   "source": [
    "df.isna().sum()"
   ]
  },
  {
   "cell_type": "code",
   "execution_count": 102,
   "id": "3438c169",
   "metadata": {},
   "outputs": [
    {
     "name": "stdout",
     "output_type": "stream",
     "text": [
      "        Rank                                               Name Platform  \\\n",
      "0          1                                         Wii Sports      Wii   \n",
      "2          3                                     Mario Kart Wii      Wii   \n",
      "3          4                                  Wii Sports Resort      Wii   \n",
      "6          7                              New Super Mario Bros.       DS   \n",
      "7          8                                           Wii Play      Wii   \n",
      "...      ...                                                ...      ...   \n",
      "16590  16593  Eiyuu Densetsu: Sora no Kiseki Material Collec...      PSP   \n",
      "16591  16594                                Myst IV: Revelation       PC   \n",
      "16592  16595                                           Plushees       DS   \n",
      "16595  16598   SCORE International Baja 1000: The Official Game      PS2   \n",
      "16596  16599                                         Know How 2       DS   \n",
      "\n",
      "         Year         Genre           Publisher  NA_Sales  EU_Sales  JP_Sales  \\\n",
      "0      2006.0        Sports            Nintendo     41.49     29.02      3.77   \n",
      "2      2008.0        Racing            Nintendo     15.85     12.88      3.79   \n",
      "3      2009.0        Sports            Nintendo     15.75     11.01      3.28   \n",
      "6      2006.0      Platform            Nintendo     11.38      9.23      6.50   \n",
      "7      2006.0          Misc            Nintendo     14.03      9.20      2.93   \n",
      "...       ...           ...                 ...       ...       ...       ...   \n",
      "16590  2007.0  Role-Playing  Falcom Corporation      0.00      0.00      0.01   \n",
      "16591  2004.0     Adventure             Ubisoft      0.01      0.00      0.00   \n",
      "16592  2008.0    Simulation           Destineer      0.01      0.00      0.00   \n",
      "16595  2008.0        Racing          Activision      0.00      0.00      0.00   \n",
      "16596  2010.0        Puzzle            7G//AMES      0.00      0.01      0.00   \n",
      "\n",
      "       Other_Sales  Global_Sales  \n",
      "0             8.46         82.74  \n",
      "2             3.31         35.82  \n",
      "3             2.96         33.00  \n",
      "6             2.90         30.01  \n",
      "7             2.85         29.02  \n",
      "...            ...           ...  \n",
      "16590         0.00          0.01  \n",
      "16591         0.00          0.01  \n",
      "16592         0.00          0.01  \n",
      "16595         0.00          0.01  \n",
      "16596         0.00          0.01  \n",
      "\n",
      "[11917 rows x 11 columns]\n"
     ]
    }
   ],
   "source": [
    "df0=df[(df['Year'] >= 2004) & (df['Year'] <= 2018)]\n",
    "print(df0)"
   ]
  },
  {
   "cell_type": "code",
   "execution_count": 115,
   "id": "b591a4ce",
   "metadata": {},
   "outputs": [
    {
     "data": {
      "text/plain": [
       "Rank             0\n",
       "Name             0\n",
       "Platform         0\n",
       "Year             0\n",
       "Genre            0\n",
       "Publisher       36\n",
       "NA_Sales         0\n",
       "EU_Sales         0\n",
       "JP_Sales         0\n",
       "Other_Sales      0\n",
       "Global_Sales     0\n",
       "dtype: int64"
      ]
     },
     "execution_count": 115,
     "metadata": {},
     "output_type": "execute_result"
    }
   ],
   "source": [
    "df0.isna().sum()"
   ]
  },
  {
   "cell_type": "code",
   "execution_count": 107,
   "id": "5468bca4",
   "metadata": {},
   "outputs": [
    {
     "name": "stdout",
     "output_type": "stream",
     "text": [
      "    Platform         Genre  Global_Sales_Mean\n",
      "0        3DS        Action           0.314500\n",
      "1        3DS     Adventure           0.131389\n",
      "2        3DS      Fighting           0.747143\n",
      "3        3DS          Misc           0.197736\n",
      "4        3DS      Platform           1.151071\n",
      "..       ...           ...                ...\n",
      "176     XOne  Role-Playing           0.729231\n",
      "177     XOne       Shooter           1.563939\n",
      "178     XOne    Simulation           0.180000\n",
      "179     XOne        Sports           0.665833\n",
      "180     XOne      Strategy           0.126667\n",
      "\n",
      "[181 rows x 3 columns]\n"
     ]
    }
   ],
   "source": [
    "df01=df0.groupby(['Platform','Genre']).agg({'Global_Sales':['mean']})\n",
    "df01.columns=['Global_Sales_Mean']\n",
    "df02=df01.reset_index()\n",
    "print(df02)"
   ]
  },
  {
   "cell_type": "code",
   "execution_count": 108,
   "id": "d38bd0c2",
   "metadata": {},
   "outputs": [
    {
     "name": "stdout",
     "output_type": "stream",
     "text": [
      "        Genre Platform  Global_Sales_Mean\n",
      "0      Action      3DS           0.314500\n",
      "1      Action       DS           0.340806\n",
      "2      Action      GBA           0.315890\n",
      "3      Action       GC           0.322885\n",
      "4      Action       PC           0.175946\n",
      "..        ...      ...                ...\n",
      "176  Strategy      Wii           0.209200\n",
      "177  Strategy     WiiU           0.413333\n",
      "178  Strategy     X360           0.361852\n",
      "179  Strategy       XB           0.165833\n",
      "180  Strategy     XOne           0.126667\n",
      "\n",
      "[181 rows x 3 columns]\n"
     ]
    }
   ],
   "source": [
    "df04=df02.groupby(['Genre','Platform']).max()\n",
    "df04=df04.reset_index()\n",
    "print(df04)"
   ]
  },
  {
   "cell_type": "code",
   "execution_count": 109,
   "id": "0e6eea75",
   "metadata": {},
   "outputs": [
    {
     "name": "stdout",
     "output_type": "stream",
     "text": [
      "            Genre Platform  Global_Sales_Mean\n",
      "6          Action      PS3           0.815067\n",
      "28      Adventure     X360           0.324043\n",
      "42       Fighting     WiiU           1.272000\n",
      "56           Misc      Wii           0.799375\n",
      "71       Platform      Wii           1.590877\n",
      "77         Puzzle       DS           0.355381\n",
      "101        Racing     WiiU           2.590000\n",
      "107  Role-Playing      GBA           0.962857\n",
      "128       Shooter      PS4           2.215294\n",
      "136    Simulation      3DS           0.949643\n",
      "158        Sports      PS4           1.164419\n",
      "177      Strategy     WiiU           0.413333\n"
     ]
    }
   ],
   "source": [
    "idx0 = df04.groupby(['Genre'])['Global_Sales_Mean'].transform(max) == df04['Global_Sales_Mean']\n",
    "print(df04[idx0])"
   ]
  },
  {
   "cell_type": "code",
   "execution_count": null,
   "id": "f3de2760",
   "metadata": {},
   "outputs": [],
   "source": []
  },
  {
   "cell_type": "code",
   "execution_count": null,
   "id": "8f971a64",
   "metadata": {},
   "outputs": [],
   "source": []
  }
 ],
 "metadata": {
  "kernelspec": {
   "display_name": "Python 3 (ipykernel)",
   "language": "python",
   "name": "python3"
  },
  "language_info": {
   "codemirror_mode": {
    "name": "ipython",
    "version": 3
   },
   "file_extension": ".py",
   "mimetype": "text/x-python",
   "name": "python",
   "nbconvert_exporter": "python",
   "pygments_lexer": "ipython3",
   "version": "3.9.12"
  }
 },
 "nbformat": 4,
 "nbformat_minor": 5
}
